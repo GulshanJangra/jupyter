{
 "cells": [
  {
   "cell_type": "markdown",
   "metadata": {},
   "source": [
    "###### Divesh singla\n",
    "###### 191302011\n",
    "###### B.Tech 3rd SEM \n",
    "###### project 1 (stats)"
   ]
  },
  {
   "cell_type": "code",
   "execution_count": 53,
   "metadata": {},
   "outputs": [],
   "source": [
    "import numpy as np\n",
    "import pandas as pd\n",
    "from pandas import Series, DataFrame\n",
    "import matplotlib.pyplot as plt\n",
    "import seaborn as sns\n",
    "import statistics\n",
    "import math\n",
    "from scipy import stats \n",
    "import pylab as p\n",
    "from scipy.stats import skew "
   ]
  },
  {
   "cell_type": "code",
   "execution_count": 54,
   "metadata": {},
   "outputs": [
    {
     "data": {
      "text/html": [
       "<div>\n",
       "<style scoped>\n",
       "    .dataframe tbody tr th:only-of-type {\n",
       "        vertical-align: middle;\n",
       "    }\n",
       "\n",
       "    .dataframe tbody tr th {\n",
       "        vertical-align: top;\n",
       "    }\n",
       "\n",
       "    .dataframe thead th {\n",
       "        text-align: right;\n",
       "    }\n",
       "</style>\n",
       "<table border=\"1\" class=\"dataframe\">\n",
       "  <thead>\n",
       "    <tr style=\"text-align: right;\">\n",
       "      <th></th>\n",
       "      <th>total_bill</th>\n",
       "      <th>tip</th>\n",
       "      <th>sex</th>\n",
       "      <th>smoker</th>\n",
       "      <th>day</th>\n",
       "      <th>time</th>\n",
       "      <th>size</th>\n",
       "    </tr>\n",
       "  </thead>\n",
       "  <tbody>\n",
       "    <tr>\n",
       "      <td>0</td>\n",
       "      <td>16.99</td>\n",
       "      <td>1.01</td>\n",
       "      <td>Female</td>\n",
       "      <td>No</td>\n",
       "      <td>Sun</td>\n",
       "      <td>Dinner</td>\n",
       "      <td>2</td>\n",
       "    </tr>\n",
       "    <tr>\n",
       "      <td>1</td>\n",
       "      <td>10.34</td>\n",
       "      <td>1.66</td>\n",
       "      <td>Male</td>\n",
       "      <td>No</td>\n",
       "      <td>Sun</td>\n",
       "      <td>Dinner</td>\n",
       "      <td>3</td>\n",
       "    </tr>\n",
       "    <tr>\n",
       "      <td>2</td>\n",
       "      <td>21.01</td>\n",
       "      <td>3.50</td>\n",
       "      <td>Male</td>\n",
       "      <td>No</td>\n",
       "      <td>Sun</td>\n",
       "      <td>Dinner</td>\n",
       "      <td>3</td>\n",
       "    </tr>\n",
       "    <tr>\n",
       "      <td>3</td>\n",
       "      <td>23.68</td>\n",
       "      <td>3.31</td>\n",
       "      <td>Male</td>\n",
       "      <td>No</td>\n",
       "      <td>Sun</td>\n",
       "      <td>Dinner</td>\n",
       "      <td>2</td>\n",
       "    </tr>\n",
       "    <tr>\n",
       "      <td>4</td>\n",
       "      <td>24.59</td>\n",
       "      <td>3.61</td>\n",
       "      <td>Female</td>\n",
       "      <td>No</td>\n",
       "      <td>Sun</td>\n",
       "      <td>Dinner</td>\n",
       "      <td>4</td>\n",
       "    </tr>\n",
       "    <tr>\n",
       "      <td>...</td>\n",
       "      <td>...</td>\n",
       "      <td>...</td>\n",
       "      <td>...</td>\n",
       "      <td>...</td>\n",
       "      <td>...</td>\n",
       "      <td>...</td>\n",
       "      <td>...</td>\n",
       "    </tr>\n",
       "    <tr>\n",
       "      <td>239</td>\n",
       "      <td>29.03</td>\n",
       "      <td>5.92</td>\n",
       "      <td>Male</td>\n",
       "      <td>No</td>\n",
       "      <td>Sat</td>\n",
       "      <td>Dinner</td>\n",
       "      <td>3</td>\n",
       "    </tr>\n",
       "    <tr>\n",
       "      <td>240</td>\n",
       "      <td>27.18</td>\n",
       "      <td>2.00</td>\n",
       "      <td>Female</td>\n",
       "      <td>Yes</td>\n",
       "      <td>Sat</td>\n",
       "      <td>Dinner</td>\n",
       "      <td>2</td>\n",
       "    </tr>\n",
       "    <tr>\n",
       "      <td>241</td>\n",
       "      <td>22.67</td>\n",
       "      <td>2.00</td>\n",
       "      <td>Male</td>\n",
       "      <td>Yes</td>\n",
       "      <td>Sat</td>\n",
       "      <td>Dinner</td>\n",
       "      <td>2</td>\n",
       "    </tr>\n",
       "    <tr>\n",
       "      <td>242</td>\n",
       "      <td>17.82</td>\n",
       "      <td>1.75</td>\n",
       "      <td>Male</td>\n",
       "      <td>No</td>\n",
       "      <td>Sat</td>\n",
       "      <td>Dinner</td>\n",
       "      <td>2</td>\n",
       "    </tr>\n",
       "    <tr>\n",
       "      <td>243</td>\n",
       "      <td>18.78</td>\n",
       "      <td>3.00</td>\n",
       "      <td>Female</td>\n",
       "      <td>No</td>\n",
       "      <td>Thur</td>\n",
       "      <td>Dinner</td>\n",
       "      <td>2</td>\n",
       "    </tr>\n",
       "  </tbody>\n",
       "</table>\n",
       "<p>244 rows × 7 columns</p>\n",
       "</div>"
      ],
      "text/plain": [
       "     total_bill   tip     sex smoker   day    time  size\n",
       "0         16.99  1.01  Female     No   Sun  Dinner     2\n",
       "1         10.34  1.66    Male     No   Sun  Dinner     3\n",
       "2         21.01  3.50    Male     No   Sun  Dinner     3\n",
       "3         23.68  3.31    Male     No   Sun  Dinner     2\n",
       "4         24.59  3.61  Female     No   Sun  Dinner     4\n",
       "..          ...   ...     ...    ...   ...     ...   ...\n",
       "239       29.03  5.92    Male     No   Sat  Dinner     3\n",
       "240       27.18  2.00  Female    Yes   Sat  Dinner     2\n",
       "241       22.67  2.00    Male    Yes   Sat  Dinner     2\n",
       "242       17.82  1.75    Male     No   Sat  Dinner     2\n",
       "243       18.78  3.00  Female     No  Thur  Dinner     2\n",
       "\n",
       "[244 rows x 7 columns]"
      ]
     },
     "execution_count": 54,
     "metadata": {},
     "output_type": "execute_result"
    }
   ],
   "source": [
    "dataFrame = pd.read_csv ('tips(stats).csv')\n",
    "dataFrame"
   ]
  },
  {
   "cell_type": "markdown",
   "metadata": {},
   "source": [
    "###### 1 .(A) FIVE NUMBER SUMMARY OF TOTAL BILL "
   ]
  },
  {
   "cell_type": "code",
   "execution_count": 55,
   "metadata": {},
   "outputs": [
    {
     "name": "stdout",
     "output_type": "stream",
     "text": [
      "bill having maximum amount : 50.81\n",
      "bill having minimum amount : 3.07\n",
      "median amount of bills: 17.795\n",
      "mean amount of bills: 19.785942622950824\n",
      "standard deviation 8.88415057777113\n"
     ]
    }
   ],
   "source": [
    "totalBill = dataFrame.total_bill\n",
    "print ('bill having maximum amount :',np.max(totalBill))\n",
    "print ('bill having minimum amount :',np.min(totalBill))\n",
    "print ('median amount of bills:',np.median(totalBill))\n",
    "print ('mean amount of bills:',np.mean(totalBill))\n",
    "print ('standard deviation',np.std(totalBill))"
   ]
  },
  {
   "cell_type": "markdown",
   "metadata": {},
   "source": [
    "###### 1. (B)  FIVE NUMBER SUMMARY OF TIP "
   ]
  },
  {
   "cell_type": "code",
   "execution_count": 56,
   "metadata": {},
   "outputs": [
    {
     "name": "stdout",
     "output_type": "stream",
     "text": [
      "maximum tip given : 10.0\n",
      "minimum tip given : 1.0\n",
      "median of tips: 2.9\n",
      "mean of tips: 2.9982786885245902\n",
      "standard deviation 1.3807999538298958\n"
     ]
    }
   ],
   "source": [
    "givenTip = dataFrame.tip\n",
    "print ('maximum tip given :',np.max(givenTip))\n",
    "print ('minimum tip given :',np.min(givenTip))\n",
    "print ('median of tips:',np.median(givenTip))\n",
    "print ('mean of tips:',np.mean(givenTip))\n",
    "print ('standard deviation',np.std(givenTip))"
   ]
  },
  {
   "cell_type": "markdown",
   "metadata": {},
   "source": [
    "###### 2. (A) BOX PLOT DIAGRAM OF TOTAL BILL "
   ]
  },
  {
   "cell_type": "code",
   "execution_count": 57,
   "metadata": {},
   "outputs": [
    {
     "data": {
      "text/plain": [
       "Text(0.5, 1.0, 'BOX PLOT OF TOTAL BILL')"
      ]
     },
     "execution_count": 57,
     "metadata": {},
     "output_type": "execute_result"
    },
    {
     "data": {
      "image/png": "[encoded data removed]",
      "text/plain": [
       "<Figure size 432x288 with 1 Axes>"
      ]
     },
     "metadata": {
      "needs_background": "light"
     },
     "output_type": "display_data"
    }
   ],
   "source": [
    "plt.boxplot(totalBill)\n",
    "plt.title(\"BOX PLOT OF TOTAL BILL\",fontsize=14)"
   ]
  },
  {
   "cell_type": "markdown",
   "metadata": {},
   "source": [
    "###### 2. (B) BOX PLOT DIAGRAM OF TIP "
   ]
  },
  {
   "cell_type": "code",
   "execution_count": 58,
   "metadata": {},
   "outputs": [
    {
     "data": {
      "text/plain": [
       "Text(0.5, 1.0, 'BOX PLOT OF TIP')"
      ]
     },
     "execution_count": 58,
     "metadata": {},
     "output_type": "execute_result"
    },
    {
     "data": {
      "image/png": "[encoded data removed]",
      "text/plain": [
       "<Figure size 432x288 with 1 Axes>"
      ]
     },
     "metadata": {
      "needs_background": "light"
     },
     "output_type": "display_data"
    }
   ],
   "source": [
    "plt.boxplot(givenTip)\n",
    "plt.title(\"BOX PLOT OF TIP\",fontsize=14)"
   ]
  },
  {
   "cell_type": "markdown",
   "metadata": {},
   "source": [
    "###### 3. (A) ANALYZE THE DIAGRAM TO MARK THE SKEWNESS IN THE DATA  FOR TOTAL BILLS"
   ]
  },
  {
   "cell_type": "code",
   "execution_count": 59,
   "metadata": {},
   "outputs": [
    {
     "data": {
      "image/png": "[encoded data removed]",
      "text/plain": [
       "<Figure size 720x432 with 1 Axes>"
      ]
     },
     "metadata": {
      "needs_background": "light"
     },
     "output_type": "display_data"
    }
   ],
   "source": [
    "plt.figure(figsize=[10,6])\n",
    "plt.hist(x=totalBill, bins=20)\n",
    "plt.title('NORMAL DISTRIBUTION HISTOGRAM OF TOATAL BILL',fontsize=14)\n",
    "plt.grid(axis='y', alpha=0.75)\n",
    "plt.show()"
   ]
  },
  {
   "cell_type": "markdown",
   "metadata": {},
   "source": [
    "###### 3. (B) ANALYZE THE DIAGRAM TO MARK THE SKEWNESS IN THE DATA  FOR TIP"
   ]
  },
  {
   "cell_type": "code",
   "execution_count": 60,
   "metadata": {},
   "outputs": [
    {
     "data": {
      "image/png": "[encoded data removed]",
      "text/plain": [
       "<Figure size 720x432 with 1 Axes>"
      ]
     },
     "metadata": {
      "needs_background": "light"
     },
     "output_type": "display_data"
    }
   ],
   "source": [
    "plt.figure(figsize=[10,6])\n",
    "plt.hist(x=givenTip, bins=20)\n",
    "plt.title('NORMAL DISTRIBUTION HISTOGRAM OF GIVEN TIP',fontsize=14)\n",
    "plt.grid(axis='y', alpha=0.75)\n",
    "plt.show()"
   ]
  },
  {
   "cell_type": "markdown",
   "metadata": {},
   "source": [
    "###### 4.(A) FIND OUT THE OUTLINER FOR TOTAL BILL"
   ]
  },
  {
   "cell_type": "code",
   "execution_count": 61,
   "metadata": {},
   "outputs": [
    {
     "data": {
      "text/plain": [
       "<matplotlib.axes._subplots.AxesSubplot at 0xe251d88>"
      ]
     },
     "execution_count": 61,
     "metadata": {},
     "output_type": "execute_result"
    },
    {
     "data": {
      "image/png": "[encoded data removed]",
      "text/plain": [
       "<Figure size 2520x288 with 1 Axes>"
      ]
     },
     "metadata": {
      "needs_background": "light"
     },
     "output_type": "display_data"
    }
   ],
   "source": [
    "plt.figure(figsize=(35,4))\n",
    "sns.boxplot(x=totalBill)"
   ]
  },
  {
   "cell_type": "markdown",
   "metadata": {},
   "source": [
    "###### 4.(B) FIND OUT THE OUTLINER FOR TIP"
   ]
  },
  {
   "cell_type": "code",
   "execution_count": 62,
   "metadata": {},
   "outputs": [
    {
     "data": {
      "text/plain": [
       "<matplotlib.axes._subplots.AxesSubplot at 0xb9f6608>"
      ]
     },
     "execution_count": 62,
     "metadata": {},
     "output_type": "execute_result"
    },
    {
     "data": {
      "image/png": "[encoded data removed]",
      "text/plain": [
       "<Figure size 2520x288 with 1 Axes>"
      ]
     },
     "metadata": {
      "needs_background": "light"
     },
     "output_type": "display_data"
    }
   ],
   "source": [
    "plt.figure(figsize=(35,4))\n",
    "sns.boxplot(x=givenTip)"
   ]
  },
  {
   "cell_type": "markdown",
   "metadata": {},
   "source": [
    "###### 5.(A) FIND OUT THE IQR OF TOTAL BILL"
   ]
  },
  {
   "cell_type": "code",
   "execution_count": 63,
   "metadata": {},
   "outputs": [
    {
     "name": "stdout",
     "output_type": "stream",
     "text": [
      "IQR OF TOTAL BILL : 10.850\n"
     ]
    }
   ],
   "source": [
    "IQR = stats.iqr(totalBill, interpolation = 'midpoint') \n",
    "print ('IQR OF TOTAL BILL : {I:1.3f}'.format (I = IQR))"
   ]
  },
  {
   "cell_type": "markdown",
   "metadata": {},
   "source": [
    "###### 5.(B) FIND OUT THE IQR OF TIP"
   ]
  },
  {
   "cell_type": "code",
   "execution_count": 64,
   "metadata": {},
   "outputs": [
    {
     "name": "stdout",
     "output_type": "stream",
     "text": [
      "IQR OF TIP : 1.575\n"
     ]
    }
   ],
   "source": [
    "IQR = stats.iqr(givenTip, interpolation = 'midpoint') \n",
    "print ('IQR OF TIP : {I:1.3f}'.format (I = IQR))"
   ]
  },
  {
   "cell_type": "markdown",
   "metadata": {},
   "source": [
    "###### 6.(A) PLOT HISTOGRAM OF TOTAL BILL"
   ]
  },
  {
   "cell_type": "code",
   "execution_count": 65,
   "metadata": {},
   "outputs": [
    {
     "data": {
      "image/png": "[encoded data removed]",
      "text/plain": [
       "<Figure size 720x432 with 1 Axes>"
      ]
     },
     "metadata": {
      "needs_background": "light"
     },
     "output_type": "display_data"
    }
   ],
   "source": [
    "plt.figure(figsize=[10,6])\n",
    "plt.hist(x=totalBill, bins=30)\n",
    "plt.title('NORMAL DISTRIBUTION HISTOGRAM FOR TOTAL BILL ',fontsize=14)\n",
    "plt.grid(axis='y', alpha=0.75)\n",
    "plt.show()"
   ]
  },
  {
   "cell_type": "markdown",
   "metadata": {},
   "source": [
    "###### 6.(B) PLOT HISTOGRAM OF TIP"
   ]
  },
  {
   "cell_type": "code",
   "execution_count": 66,
   "metadata": {},
   "outputs": [
    {
     "data": {
      "image/png": "[encoded data removed]",
      "text/plain": [
       "<Figure size 720x432 with 1 Axes>"
      ]
     },
     "metadata": {
      "needs_background": "light"
     },
     "output_type": "display_data"
    }
   ],
   "source": [
    "plt.figure(figsize=[10,6])\n",
    "plt.hist(x=givenTip, bins=30)\n",
    "plt.title('NORMAL DISTRIBUTION HISTOGRAM FOR GIVEN TIP ',fontsize=14)\n",
    "plt.grid(axis='y', alpha=0.75)\n",
    "plt.show()"
   ]
  },
  {
   "cell_type": "markdown",
   "metadata": {},
   "source": [
    "###### 7.IDENTIFY THE SKEWNESS IN EACH . TYPE OF SKEWNESS"
   ]
  },
  {
   "cell_type": "code",
   "execution_count": 67,
   "metadata": {},
   "outputs": [
    {
     "name": "stdout",
     "output_type": "stream",
     "text": [
      "value of skewNess:\n",
      " total_bill    1.133213\n",
      "tip           1.465451\n",
      "size          1.447882\n",
      "dtype: float64 \n",
      "\n",
      "skew value 1.1332\n",
      "skew value 1.4655\n",
      "skew value 1.4479\n",
      "\n",
      "positively skewed\n"
     ]
    }
   ],
   "source": [
    "skewNess = dataFrame.skew(axis = 0, skipna = True)\n",
    "print ('value of skewNess:\\n',skewNess,'\\n')\n",
    "for skew_value in skewNess:\n",
    "    print (\"skew value {s:2.4f}\".format(s=skew_value))\n",
    "    \n",
    "if (skew_value == 0):\n",
    "    skewNess_Type = print(\"\\nnormally distributed\")\n",
    "elif(skew_value > 1) :\n",
    "    skewNess_Type = print(\"\\npositively skewed\")\n",
    "else:\n",
    "    skewNess_Type = print(\"\\nnegatively skewed\")"
   ]
  },
  {
   "cell_type": "markdown",
   "metadata": {},
   "source": [
    "###### 8.(A) CUMULATIVE FREQUENCY POLYGON FOR TOTAL BILL "
   ]
  },
  {
   "cell_type": "code",
   "execution_count": 68,
   "metadata": {},
   "outputs": [
    {
     "data": {
      "image/png": "[encoded data removed]",
      "text/plain": [
       "<Figure size 432x288 with 1 Axes>"
      ]
     },
     "metadata": {
      "needs_background": "light"
     },
     "output_type": "display_data"
    }
   ],
   "source": [
    "values, base = np.histogram(totalBill, bins=40)\n",
    "cumulative = np.cumsum(values)\n",
    "plt.plot(base[:-1], cumulative)\n",
    "plt.title('TOTAL BILL',fontsize=15)\n",
    "plt.grid(axis='y', alpha=0.75)\n",
    "plt.grid(axis='x', alpha=0.75)\n",
    "plt.show()"
   ]
  },
  {
   "cell_type": "markdown",
   "metadata": {},
   "source": [
    "###### 8.(B) CUMULATIVE FREQUENCY POLYGON FOR TIP"
   ]
  },
  {
   "cell_type": "code",
   "execution_count": 69,
   "metadata": {},
   "outputs": [
    {
     "data": {
      "image/png": "[encoded data removed]",
      "text/plain": [
       "<Figure size 432x288 with 1 Axes>"
      ]
     },
     "metadata": {
      "needs_background": "light"
     },
     "output_type": "display_data"
    }
   ],
   "source": [
    "values, base = np.histogram(givenTip, bins=40)\n",
    "cumulative = np.cumsum(values)\n",
    "plt.plot(base[:-1], cumulative)\n",
    "plt.title('GIVEN TIP',fontsize=15)\n",
    "plt.grid(axis='y', alpha=0.75)\n",
    "plt.grid(axis='x', alpha=0.75)\n",
    "plt.show()"
   ]
  },
  {
   "cell_type": "markdown",
   "metadata": {},
   "source": [
    "###### 9. (A) PREPARE THE FREQUENCY TABLE FOR \"SIZE\". "
   ]
  },
  {
   "cell_type": "code",
   "execution_count": 70,
   "metadata": {},
   "outputs": [
    {
     "name": "stdout",
     "output_type": "stream",
     "text": [
      "Frequency Table for Size\n",
      "col_0  count\n",
      "size        \n",
      "1          4\n",
      "2        156\n",
      "3         38\n",
      "4         37\n",
      "5          5\n",
      "6          4\n"
     ]
    }
   ],
   "source": [
    "print(\"Frequency Table for Size\")\n",
    "size = pd.crosstab(index=dataFrame['size'],columns='count')\n",
    "print(size)"
   ]
  },
  {
   "cell_type": "markdown",
   "metadata": {},
   "source": [
    "###### 9.(B) BAR CHART FOR \"SIZE\""
   ]
  },
  {
   "cell_type": "code",
   "execution_count": 71,
   "metadata": {},
   "outputs": [
    {
     "data": {
      "text/plain": [
       "<matplotlib.axes._subplots.AxesSubplot at 0xe236848>"
      ]
     },
     "execution_count": 71,
     "metadata": {},
     "output_type": "execute_result"
    },
    {
     "data": {
      "image/png": "[encoded data removed]",
      "text/plain": [
       "<Figure size 720x432 with 1 Axes>"
      ]
     },
     "metadata": {
      "needs_background": "light"
     },
     "output_type": "display_data"
    }
   ],
   "source": [
    "size.plot.bar(figsize=(10,6),rot=0)"
   ]
  },
  {
   "cell_type": "markdown",
   "metadata": {},
   "source": [
    "###### 10.(A) PREPARE TWO VARIABLE FREQUENCY TABLES FOR \"SIZE\" VS \"TIP\""
   ]
  },
  {
   "cell_type": "code",
   "execution_count": 72,
   "metadata": {},
   "outputs": [
    {
     "name": "stdout",
     "output_type": "stream",
     "text": [
      "size  1    2   3   4  5  6  All\n",
      "tip                            \n",
      "1.0   2    2   0   0  0  0    4\n",
      "1.01  0    1   0   0  0  0    1\n",
      "1.1   0    1   0   0  0  0    1\n",
      "1.17  0    1   0   0  0  0    1\n",
      "1.25  0    3   0   0  0  0    3\n",
      "...  ..  ...  ..  .. .. ..  ...\n",
      "6.73  0    0   0   1  0  0    1\n",
      "7.58  0    0   0   1  0  0    1\n",
      "9.0   0    0   0   1  0  0    1\n",
      "10.0  0    0   1   0  0  0    1\n",
      "All   4  156  38  37  5  4  244\n",
      "\n",
      "[124 rows x 7 columns]\n",
      "\n",
      "'AMOUNT OF TIP RECIEVED FROM NUMBER OF FAMILIES'\n",
      "\n"
     ]
    }
   ],
   "source": [
    "sizetip_table = pd.crosstab(index=dataFrame[\"tip\"],columns=dataFrame['size'], margins=True)\n",
    "print(sizetip_table)\n",
    "\n",
    "print(\"\\n'AMOUNT OF TIP RECIEVED FROM NUMBER OF FAMILIES'\\n\")"
   ]
  },
  {
   "cell_type": "markdown",
   "metadata": {},
   "source": [
    "###### 10.(B) PREPARE TWO VARIABLE FREQUENCY TABLES FOR \"SIZE\" VS \"TOTAL BILL\""
   ]
  },
  {
   "cell_type": "code",
   "execution_count": 73,
   "metadata": {},
   "outputs": [
    {
     "name": "stdout",
     "output_type": "stream",
     "text": [
      "size        1    2   3   4  5  6  All\n",
      "total_bill                           \n",
      "3.07        1    0   0   0  0  0    1\n",
      "5.75        0    1   0   0  0  0    1\n",
      "7.25        1    1   0   0  0  0    2\n",
      "7.51        0    1   0   0  0  0    1\n",
      "7.56        0    1   0   0  0  0    1\n",
      "...        ..  ...  ..  .. .. ..  ...\n",
      "48.17       0    0   0   0  0  1    1\n",
      "48.27       0    0   0   1  0  0    1\n",
      "48.33       0    0   0   1  0  0    1\n",
      "50.81       0    0   1   0  0  0    1\n",
      "All         4  156  38  37  5  4  244\n",
      "\n",
      "[230 rows x 7 columns]\n",
      "\n",
      "'TOTAL AMOUNT PAID FROM NUMBER OF FAMILIES'\n",
      "\n"
     ]
    }
   ],
   "source": [
    "sizeTotalbill_table = pd.crosstab(index=dataFrame[\"total_bill\"],columns=dataFrame['size'], margins=True)\n",
    "print(sizeTotalbill_table)\n",
    "\n",
    "print(\"\\n'TOTAL AMOUNT PAID FROM NUMBER OF FAMILIES'\\n\")"
   ]
  },
  {
   "cell_type": "code",
   "execution_count": null,
   "metadata": {},
   "outputs": [],
   "source": []
  }
 ],
 "metadata": {
  "kernelspec": {
   "display_name": "Python 3",
   "language": "python",
   "name": "python3"
  },
  "language_info": {
   "codemirror_mode": {
    "name": "ipython",
    "version": 3
   },
   "file_extension": ".py",
   "mimetype": "text/x-python",
   "name": "python",
   "nbconvert_exporter": "python",
   "pygments_lexer": "ipython3",
   "version": "3.7.4"
  }
 },
 "nbformat": 4,
 "nbformat_minor": 2
}
